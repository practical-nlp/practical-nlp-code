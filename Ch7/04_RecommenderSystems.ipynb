{
  "cells": [
    {
      "cell_type": "markdown",
      "metadata": {
        "id": "scAbIjtLx26w"
      },
      "source": [
        "This notebook shows an example recommendation system using doc2vec. We will use a dataset called CMU Book summaries [dataset](http://www.cs.cmu.edu/~dbamman/booksummaries.html). Alternateively, the dataset's link can be found in the `BookSummaries_Link.md` file under the Data folder in Ch7.\n"
      ]
    },
    {
      "cell_type": "code",
      "execution_count": 1,
      "metadata": {
        "colab": {
          "base_uri": "https://localhost:8080/"
        },
        "id": "jJK4okqkx26z",
        "outputId": "3bc32811-1592-4f87-8911-83e451555f0d"
      },
      "outputs": [
        {
          "output_type": "stream",
          "name": "stdout",
          "text": [
            "Requirement already satisfied: gensim in /usr/local/lib/python3.10/dist-packages (4.3.1)\n",
            "Requirement already satisfied: numpy>=1.18.5 in /usr/local/lib/python3.10/dist-packages (from gensim) (1.23.5)\n",
            "Requirement already satisfied: scipy>=1.7.0 in /usr/local/lib/python3.10/dist-packages (from gensim) (1.10.1)\n",
            "Requirement already satisfied: smart-open>=1.8.1 in /usr/local/lib/python3.10/dist-packages (from gensim) (6.3.0)\n",
            "Requirement already satisfied: nltk in /usr/local/lib/python3.10/dist-packages (3.8.1)\n",
            "Requirement already satisfied: click in /usr/local/lib/python3.10/dist-packages (from nltk) (8.1.7)\n",
            "Requirement already satisfied: joblib in /usr/local/lib/python3.10/dist-packages (from nltk) (1.3.2)\n",
            "Requirement already satisfied: regex>=2021.8.3 in /usr/local/lib/python3.10/dist-packages (from nltk) (2023.6.3)\n",
            "Requirement already satisfied: tqdm in /usr/local/lib/python3.10/dist-packages (from nltk) (4.66.1)\n"
          ]
        }
      ],
      "source": [
        "!pip install gensim\n",
        "!pip install nltk"
      ]
    },
    {
      "cell_type": "code",
      "source": [
        "from google.colab import drive\n",
        "drive.mount('/content/drive')"
      ],
      "metadata": {
        "colab": {
          "base_uri": "https://localhost:8080/"
        },
        "id": "AW4WpIiEyOqV",
        "outputId": "b689b594-033c-41e8-f9c6-1d87e6a29fe1"
      },
      "execution_count": 4,
      "outputs": [
        {
          "output_type": "stream",
          "name": "stdout",
          "text": [
            "Mounted at /content/drive\n"
          ]
        }
      ]
    },
    {
      "cell_type": "code",
      "execution_count": 10,
      "metadata": {
        "colab": {
          "base_uri": "https://localhost:8080/"
        },
        "id": "BCayxksqx261",
        "outputId": "bde7c560-5c69-4cea-e768-9c2d47534c3b"
      },
      "outputs": [
        {
          "output_type": "stream",
          "name": "stderr",
          "text": [
            "[nltk_data] Downloading package punkt to /root/nltk_data...\n",
            "[nltk_data]   Unzipping tokenizers/punkt.zip.\n"
          ]
        },
        {
          "output_type": "execute_result",
          "data": {
            "text/plain": [
              "True"
            ]
          },
          "metadata": {},
          "execution_count": 10
        }
      ],
      "source": [
        "import nltk\n",
        "from nltk.tokenize import word_tokenize\n",
        "from gensim.models.doc2vec import Doc2Vec, TaggedDocument\n",
        "nltk.download('punkt')"
      ]
    },
    {
      "cell_type": "code",
      "execution_count": 17,
      "metadata": {
        "id": "6nWXa3eXx261"
      },
      "outputs": [],
      "source": [
        "# Read the dataset’s README to understand the data format.\n",
        "\n",
        "data_path = \"drive/MyDrive/Datasets/PNLP/booksummaries.txt\"\n",
        "mydata = {} #titles-summaries dictionary object\n",
        "for line in open(data_path, encoding=\"utf-8\"):\n",
        "    temp = line.split(\"\\t\")\n",
        "    mydata[temp[2]] = temp[6]"
      ]
    },
    {
      "cell_type": "code",
      "execution_count": 18,
      "metadata": {
        "id": "J3FgZUs2x261"
      },
      "outputs": [],
      "source": [
        "#prepare the data for doc2vec, build and save a doc2vec model\n",
        "train_doc2vec = [TaggedDocument((word_tokenize(mydata[t])), tags=[t]) for t in mydata.keys()]\n",
        "model = Doc2Vec(vector_size=50, alpha=0.025, min_count=10, dm =1, epochs=100)\n",
        "model.build_vocab(train_doc2vec)\n",
        "model.train(train_doc2vec, total_examples=model.corpus_count, epochs=model.epochs)\n",
        "model.save(\"d2v.model\")"
      ]
    },
    {
      "cell_type": "code",
      "execution_count": 19,
      "metadata": {
        "colab": {
          "base_uri": "https://localhost:8080/"
        },
        "id": "0NvuRcPFx262",
        "outputId": "22136153-f5a1-4033-a387-19d03fc22b5b"
      },
      "outputs": [
        {
          "output_type": "stream",
          "name": "stdout",
          "text": [
            "[('Animal Farm', 0.7355128526687622), (\"Snowball's Chance\", 0.616859495639801), (\"Family Guy: Stewie's Guide to World Domination\", 0.5848122835159302), ('Payback: Debt and the Shadow Side of Wealth', 0.5838175415992737), ('Poor White', 0.5768673419952393), ('The Wild Irish Girl', 0.5647366046905518), ('Settlers in Canada', 0.5579269528388977), ('The Rose in Splendour: a Story of the Wars of Lancaster and York', 0.554655909538269), ('Family Matters', 0.5509009957313538), ('Est: The Steersman Handbook', 0.5481798052787781)]\n"
          ]
        },
        {
          "output_type": "stream",
          "name": "stderr",
          "text": [
            "<ipython-input-19-d361e57ca551>:10: DeprecationWarning: Call to deprecated `docvecs` (The `docvecs` property has been renamed `dv`.).\n",
            "  sims = model.docvecs.most_similar([new_vector])\n"
          ]
        }
      ],
      "source": [
        "#Use the model to look for similar texts\n",
        "model= Doc2Vec.load(\"d2v.model\")\n",
        "\n",
        "#This is a sentence from the summary of “Animal Farm” on Wikipedia:\n",
        "#https://en.wikipedia.org/wiki/Animal_Farm\n",
        "sample = \"\"\"\n",
        "Napoleon enacts changes to the governance structure of the farm, replacing meetings with a committee of pigs who will run the farm.\n",
        " \"\"\"\n",
        "new_vector = model.infer_vector(word_tokenize(sample))\n",
        "sims = model.docvecs.most_similar([new_vector])\n",
        "print(sims)"
      ]
    }
  ],
  "metadata": {
    "kernelspec": {
      "display_name": "Python 3",
      "language": "python",
      "name": "python3"
    },
    "language_info": {
      "codemirror_mode": {
        "name": "ipython",
        "version": 3
      },
      "file_extension": ".py",
      "mimetype": "text/x-python",
      "name": "python",
      "nbconvert_exporter": "python",
      "pygments_lexer": "ipython3",
      "version": "3.7.9"
    },
    "colab": {
      "provenance": []
    }
  },
  "nbformat": 4,
  "nbformat_minor": 0
}