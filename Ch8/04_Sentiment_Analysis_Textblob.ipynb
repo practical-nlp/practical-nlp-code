{
  "cells": [
    {
      "cell_type": "markdown",
      "metadata": {
        "id": "aYjtnkWINc2Y"
      },
      "source": [
        "In this notebook we demonstrate a basic text classifier using [Textblob.](https://textblob.readthedocs.io/en/dev/) ."
      ]
    },
    {
      "cell_type": "code",
      "source": [
        "# Install Libraries\n",
        "!pip install textblob==0.17.1"
      ],
      "metadata": {
        "colab": {
          "base_uri": "https://localhost:8080/"
        },
        "id": "zUkheJgHJ1eE",
        "outputId": "cea22b7a-4013-4e4b-faaf-fc1a5800fa35"
      },
      "execution_count": 8,
      "outputs": [
        {
          "output_type": "stream",
          "name": "stdout",
          "text": [
            "Requirement already satisfied: textblob==0.17.1 in /usr/local/lib/python3.10/dist-packages (0.17.1)\n",
            "Requirement already satisfied: nltk>=3.1 in /usr/local/lib/python3.10/dist-packages (from textblob==0.17.1) (3.8.1)\n",
            "Requirement already satisfied: click in /usr/local/lib/python3.10/dist-packages (from nltk>=3.1->textblob==0.17.1) (8.1.7)\n",
            "Requirement already satisfied: joblib in /usr/local/lib/python3.10/dist-packages (from nltk>=3.1->textblob==0.17.1) (1.3.2)\n",
            "Requirement already satisfied: regex>=2021.8.3 in /usr/local/lib/python3.10/dist-packages (from nltk>=3.1->textblob==0.17.1) (2023.6.3)\n",
            "Requirement already satisfied: tqdm in /usr/local/lib/python3.10/dist-packages (from nltk>=3.1->textblob==0.17.1) (4.66.1)\n"
          ]
        }
      ]
    },
    {
      "cell_type": "code",
      "source": [
        "# If using Colab Upload Files\n",
        "\n",
        "try:\n",
        "    from google.colab import files\n",
        "    uploaded = files.upload()\n",
        "except ModuleNotFoundError:\n",
        "    print('Not using colab')"
      ],
      "metadata": {
        "colab": {
          "base_uri": "https://localhost:8080/",
          "height": 39
        },
        "id": "LhcHr_VyJrXu",
        "outputId": "62a30ef4-8ccd-4ec2-8b43-95836d9c803e"
      },
      "execution_count": 5,
      "outputs": [
        {
          "output_type": "display_data",
          "data": {
            "text/plain": [
              "<IPython.core.display.HTML object>"
            ],
            "text/html": [
              "\n",
              "     <input type=\"file\" id=\"files-39eed3a0-f215-427c-ab33-cbd7130131ed\" name=\"files[]\" multiple disabled\n",
              "        style=\"border:none\" />\n",
              "     <output id=\"result-39eed3a0-f215-427c-ab33-cbd7130131ed\">\n",
              "      Upload widget is only available when the cell has been executed in the\n",
              "      current browser session. Please rerun this cell to enable.\n",
              "      </output>\n",
              "      <script>// Copyright 2017 Google LLC\n",
              "//\n",
              "// Licensed under the Apache License, Version 2.0 (the \"License\");\n",
              "// you may not use this file except in compliance with the License.\n",
              "// You may obtain a copy of the License at\n",
              "//\n",
              "//      http://www.apache.org/licenses/LICENSE-2.0\n",
              "//\n",
              "// Unless required by applicable law or agreed to in writing, software\n",
              "// distributed under the License is distributed on an \"AS IS\" BASIS,\n",
              "// WITHOUT WARRANTIES OR CONDITIONS OF ANY KIND, either express or implied.\n",
              "// See the License for the specific language governing permissions and\n",
              "// limitations under the License.\n",
              "\n",
              "/**\n",
              " * @fileoverview Helpers for google.colab Python module.\n",
              " */\n",
              "(function(scope) {\n",
              "function span(text, styleAttributes = {}) {\n",
              "  const element = document.createElement('span');\n",
              "  element.textContent = text;\n",
              "  for (const key of Object.keys(styleAttributes)) {\n",
              "    element.style[key] = styleAttributes[key];\n",
              "  }\n",
              "  return element;\n",
              "}\n",
              "\n",
              "// Max number of bytes which will be uploaded at a time.\n",
              "const MAX_PAYLOAD_SIZE = 100 * 1024;\n",
              "\n",
              "function _uploadFiles(inputId, outputId) {\n",
              "  const steps = uploadFilesStep(inputId, outputId);\n",
              "  const outputElement = document.getElementById(outputId);\n",
              "  // Cache steps on the outputElement to make it available for the next call\n",
              "  // to uploadFilesContinue from Python.\n",
              "  outputElement.steps = steps;\n",
              "\n",
              "  return _uploadFilesContinue(outputId);\n",
              "}\n",
              "\n",
              "// This is roughly an async generator (not supported in the browser yet),\n",
              "// where there are multiple asynchronous steps and the Python side is going\n",
              "// to poll for completion of each step.\n",
              "// This uses a Promise to block the python side on completion of each step,\n",
              "// then passes the result of the previous step as the input to the next step.\n",
              "function _uploadFilesContinue(outputId) {\n",
              "  const outputElement = document.getElementById(outputId);\n",
              "  const steps = outputElement.steps;\n",
              "\n",
              "  const next = steps.next(outputElement.lastPromiseValue);\n",
              "  return Promise.resolve(next.value.promise).then((value) => {\n",
              "    // Cache the last promise value to make it available to the next\n",
              "    // step of the generator.\n",
              "    outputElement.lastPromiseValue = value;\n",
              "    return next.value.response;\n",
              "  });\n",
              "}\n",
              "\n",
              "/**\n",
              " * Generator function which is called between each async step of the upload\n",
              " * process.\n",
              " * @param {string} inputId Element ID of the input file picker element.\n",
              " * @param {string} outputId Element ID of the output display.\n",
              " * @return {!Iterable<!Object>} Iterable of next steps.\n",
              " */\n",
              "function* uploadFilesStep(inputId, outputId) {\n",
              "  const inputElement = document.getElementById(inputId);\n",
              "  inputElement.disabled = false;\n",
              "\n",
              "  const outputElement = document.getElementById(outputId);\n",
              "  outputElement.innerHTML = '';\n",
              "\n",
              "  const pickedPromise = new Promise((resolve) => {\n",
              "    inputElement.addEventListener('change', (e) => {\n",
              "      resolve(e.target.files);\n",
              "    });\n",
              "  });\n",
              "\n",
              "  const cancel = document.createElement('button');\n",
              "  inputElement.parentElement.appendChild(cancel);\n",
              "  cancel.textContent = 'Cancel upload';\n",
              "  const cancelPromise = new Promise((resolve) => {\n",
              "    cancel.onclick = () => {\n",
              "      resolve(null);\n",
              "    };\n",
              "  });\n",
              "\n",
              "  // Wait for the user to pick the files.\n",
              "  const files = yield {\n",
              "    promise: Promise.race([pickedPromise, cancelPromise]),\n",
              "    response: {\n",
              "      action: 'starting',\n",
              "    }\n",
              "  };\n",
              "\n",
              "  cancel.remove();\n",
              "\n",
              "  // Disable the input element since further picks are not allowed.\n",
              "  inputElement.disabled = true;\n",
              "\n",
              "  if (!files) {\n",
              "    return {\n",
              "      response: {\n",
              "        action: 'complete',\n",
              "      }\n",
              "    };\n",
              "  }\n",
              "\n",
              "  for (const file of files) {\n",
              "    const li = document.createElement('li');\n",
              "    li.append(span(file.name, {fontWeight: 'bold'}));\n",
              "    li.append(span(\n",
              "        `(${file.type || 'n/a'}) - ${file.size} bytes, ` +\n",
              "        `last modified: ${\n",
              "            file.lastModifiedDate ? file.lastModifiedDate.toLocaleDateString() :\n",
              "                                    'n/a'} - `));\n",
              "    const percent = span('0% done');\n",
              "    li.appendChild(percent);\n",
              "\n",
              "    outputElement.appendChild(li);\n",
              "\n",
              "    const fileDataPromise = new Promise((resolve) => {\n",
              "      const reader = new FileReader();\n",
              "      reader.onload = (e) => {\n",
              "        resolve(e.target.result);\n",
              "      };\n",
              "      reader.readAsArrayBuffer(file);\n",
              "    });\n",
              "    // Wait for the data to be ready.\n",
              "    let fileData = yield {\n",
              "      promise: fileDataPromise,\n",
              "      response: {\n",
              "        action: 'continue',\n",
              "      }\n",
              "    };\n",
              "\n",
              "    // Use a chunked sending to avoid message size limits. See b/62115660.\n",
              "    let position = 0;\n",
              "    do {\n",
              "      const length = Math.min(fileData.byteLength - position, MAX_PAYLOAD_SIZE);\n",
              "      const chunk = new Uint8Array(fileData, position, length);\n",
              "      position += length;\n",
              "\n",
              "      const base64 = btoa(String.fromCharCode.apply(null, chunk));\n",
              "      yield {\n",
              "        response: {\n",
              "          action: 'append',\n",
              "          file: file.name,\n",
              "          data: base64,\n",
              "        },\n",
              "      };\n",
              "\n",
              "      let percentDone = fileData.byteLength === 0 ?\n",
              "          100 :\n",
              "          Math.round((position / fileData.byteLength) * 100);\n",
              "      percent.textContent = `${percentDone}% done`;\n",
              "\n",
              "    } while (position < fileData.byteLength);\n",
              "  }\n",
              "\n",
              "  // All done.\n",
              "  yield {\n",
              "    response: {\n",
              "      action: 'complete',\n",
              "    }\n",
              "  };\n",
              "}\n",
              "\n",
              "scope.google = scope.google || {};\n",
              "scope.google.colab = scope.google.colab || {};\n",
              "scope.google.colab._files = {\n",
              "  _uploadFiles,\n",
              "  _uploadFilesContinue,\n",
              "};\n",
              "})(self);\n",
              "</script> "
            ]
          },
          "metadata": {}
        }
      ]
    },
    {
      "cell_type": "code",
      "execution_count": 6,
      "metadata": {
        "colab": {
          "base_uri": "https://localhost:8080/"
        },
        "id": "spAkPPa0LJme",
        "outputId": "fd734439-fde2-44dc-c498-b70efdcfb241"
      },
      "outputs": [
        {
          "output_type": "stream",
          "name": "stdout",
          "text": [
            "Index(['id', 'polarity', 'tweet'], dtype='object')\n"
          ]
        },
        {
          "output_type": "stream",
          "name": "stderr",
          "text": [
            "<ipython-input-6-d4b2cd62df12>:4: FutureWarning: The error_bad_lines argument has been deprecated and will be removed in a future version. Use on_bad_lines in the future.\n",
            "\n",
            "\n",
            "  df = pd.read_csv(\"sts_gold_tweet.csv\",error_bad_lines=False,delimiter=\";\")\n"
          ]
        }
      ],
      "source": [
        "# Load the dataset.\n",
        "import pandas as pd\n",
        "\n",
        "df = pd.read_csv(\"sts_gold_tweet.csv\",error_bad_lines=False,delimiter=\";\")\n",
        "print(df.columns)\n",
        "\n",
        "# Make a list of all the tweets.\n",
        "tweets_text_collection = list(df['tweet'])"
      ]
    },
    {
      "cell_type": "code",
      "execution_count": 9,
      "metadata": {
        "colab": {
          "base_uri": "https://localhost:8080/"
        },
        "id": "mBPraZ2FLnX7",
        "outputId": "6163fdf4-c229-465c-c229-a46b15f25f5f"
      },
      "outputs": [
        {
          "output_type": "stream",
          "name": "stdout",
          "text": [
            "the angel is going to miss the athlete this weekend \n",
            "Sentiment(polarity=0.0, subjectivity=0.0)\n",
            "--------------------\n",
            "It looks as though Shaq is getting traded to Cleveland to play w/ LeBron... Too bad for Suns' fans. The Big Cactus is no more \n",
            "Sentiment(polarity=-0.3166666666666666, subjectivity=0.4222222222222222)\n",
            "--------------------\n",
            "@clarianne APRIL 9TH ISN'T COMING SOON ENOUGH \n",
            "Sentiment(polarity=0.0, subjectivity=0.5)\n",
            "--------------------\n",
            "drinking a McDonalds coffee and not understanding why someone would hurt me for no apparent reason. \n",
            "Sentiment(polarity=-0.025, subjectivity=0.35)\n",
            "--------------------\n",
            "So dissapointed Taylor Swift doesnt have a Twitter \n",
            "Sentiment(polarity=0.0, subjectivity=0.0)\n",
            "--------------------\n",
            "Wishes I was on the Spring Fling Tour with Dawn &amp; neecee Sigh  G'knight\n",
            "Sentiment(polarity=0.0, subjectivity=0.0)\n",
            "--------------------\n",
            "got a sniffle, got the kids and hubby just left to work in Sydney for the weekend, boo hoo \n",
            "Sentiment(polarity=0.0, subjectivity=0.0)\n",
            "--------------------\n",
            "i've only been in sydney for 3 hrs but I miss my friends  especially @ktjade!!!\n",
            "Sentiment(polarity=0.0, subjectivity=1.0)\n",
            "--------------------\n",
            "xboxtweet not working again \n",
            "Sentiment(polarity=0.0, subjectivity=0.0)\n",
            "--------------------\n",
            "R.I.P to lebron/kobe puppet commercials... \n",
            "Sentiment(polarity=0.0, subjectivity=0.0)\n",
            "--------------------\n",
            "Allergies sucks sometimes. Theres a super adorable 9 month old beagle named Sydney hanging out with my roomie and his friend. Can't pet. \n",
            "Sentiment(polarity=0.15833333333333333, subjectivity=0.5416666666666666)\n",
            "--------------------\n",
            "has a broken iphone \n",
            "Sentiment(polarity=-0.4, subjectivity=0.4)\n",
            "--------------------\n",
            "Line at McDonalds was too long so I can't get my sausage biscuit on \n",
            "Sentiment(polarity=-0.05, subjectivity=0.4)\n",
            "--------------------\n",
            "@stephnewby there is a virus going around  congestion, throw up, &amp; high fever\n",
            "Sentiment(polarity=0.16, subjectivity=0.5399999999999999)\n",
            "--------------------\n",
            "I scratched my iPod \n",
            "Sentiment(polarity=0.0, subjectivity=0.0)\n",
            "--------------------\n",
            "I don't understand... I really don't \n",
            "Sentiment(polarity=0.2, subjectivity=0.2)\n",
            "--------------------\n",
            "@Rove1974 @Pink is our hero too! Love her! Wanna go see her in Brisvegas again but sadly my bank balance wont let me \n",
            "Sentiment(polarity=0.0, subjectivity=0.6333333333333333)\n",
            "--------------------\n",
            "I hate the fact that I'm genuinely excited about my last tweet \n",
            "Sentiment(polarity=-0.1416666666666667, subjectivity=0.5722222222222222)\n",
            "--------------------\n",
            "Tula's sick! Nausious, Nasal congestion, headache, bodyaches and my nose is running a marathon. Theraflu please help \n",
            "Sentiment(polarity=-0.8928571428571429, subjectivity=0.8571428571428571)\n",
            "--------------------\n",
            "Hayfever time  not good!\n",
            "Sentiment(polarity=-0.4375, subjectivity=0.6000000000000001)\n",
            "--------------------\n"
          ]
        }
      ],
      "source": [
        "from textblob import TextBlob\n",
        "\n",
        "for i, tweet_text in zip(range(20), tweets_text_collection):\n",
        "\n",
        "    print(tweet_text)\n",
        "    analysis = TextBlob(tweet_text)\n",
        "\n",
        "    # Analyse the sentiment.\n",
        "    print(analysis.sentiment)\n",
        "\n",
        "    # Polarity is a value between [-1.0, 1.0] and tells how positive or negative the text is.\n",
        "    # Subjectivity is within the range [0.0, 1.0] where 0.0 is very objective and 1.0 is very subjective.\n",
        "    print(\"-\"*20)"
      ]
    },
    {
      "cell_type": "markdown",
      "metadata": {
        "id": "Hmq64mfYO0NQ"
      },
      "source": [
        "There are many more features in textblob you can refer the official documentation for them."
      ]
    }
  ],
  "metadata": {
    "colab": {
      "provenance": []
    },
    "kernelspec": {
      "display_name": "Python 3",
      "language": "python",
      "name": "python3"
    },
    "language_info": {
      "codemirror_mode": {
        "name": "ipython",
        "version": 3
      },
      "file_extension": ".py",
      "mimetype": "text/x-python",
      "name": "python",
      "nbconvert_exporter": "python",
      "pygments_lexer": "ipython3",
      "version": "3.7.4"
    }
  },
  "nbformat": 4,
  "nbformat_minor": 0
}